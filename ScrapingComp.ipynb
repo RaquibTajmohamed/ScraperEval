{
 "cells": [
  {
   "cell_type": "markdown",
   "metadata": {},
   "source": [
    "# Trying to get the completness of the Web Scarper"
   ]
  },
  {
   "cell_type": "code",
   "execution_count": 47,
   "metadata": {},
   "outputs": [],
   "source": [
    "import os\n",
    "from openai import AzureOpenAI\n",
    "from dotenv import load_dotenv\n",
    "\n",
    "load_dotenv()\n",
    "\n",
    "\n",
    "#AzureOpenAI setup\n",
    "client = AzureOpenAI(\n",
    "    api_key=os.getenv('AZURE_OPENAI_API_KEY'),\n",
    "    azure_endpoint=os.getenv('AZURE_OPENAI_ENDPOINT'),\n",
    "    # api_type='azure',\n",
    "    api_version='2023-05-15',  # this may change in the future\n",
    "    timeout=20*60,  # 20 minutes\n",
    ")\n",
    "\n",
    "#To generate summaries from 1000's of comments\n",
    "def generate_summary(prompt):\n",
    "    response = client.chat.completions.create(\n",
    "        temperature=0.0,\n",
    "        model=\"gpt-4-1106-preview\",\n",
    "        messages=[\n",
    "                {\"role\": \"system\", \"content\":\"\"\"You are a validation agent.\n",
    "                \"\"\"},\n",
    "                {\"role\": \"user\", \"content\": prompt },\n",
    "            ]\n",
    "    )\n",
    "\n",
    "    return response.choices[0].message.content"
   ]
  },
  {
   "cell_type": "markdown",
   "metadata": {},
   "source": [
    "## The three cells below load the text files. \n",
    "1. Trafilatura scraped text\n",
    "2. BeautifulSoup Scraped text\n",
    "3. A manual scraped text file, where I manually go into the website and copy and paste content"
   ]
  },
  {
   "cell_type": "code",
   "execution_count": 1,
   "metadata": {},
   "outputs": [],
   "source": [
    "#opening the manually created text file\n",
    "\n",
    "txt_file_path = 'scraped_data/TenetHealth_trafilatura.txt'\n",
    "\n",
    "with open(txt_file_path, 'r') as file:\n",
    "    text_trafilatura = file.read()\n"
   ]
  },
  {
   "cell_type": "code",
   "execution_count": 2,
   "metadata": {},
   "outputs": [],
   "source": [
    "txt_file_path = 'scraped_data/TenetHealth_BeautifulSoup.txt'\n",
    "\n",
    "with open(txt_file_path, 'r') as file:\n",
    "    text_BSoup = file.read()\n"
   ]
  },
  {
   "cell_type": "code",
   "execution_count": 4,
   "metadata": {},
   "outputs": [],
   "source": [
    "txt_file_path = 'manual_scraping/TenetHealth.txt'\n",
    "\n",
    "with open(txt_file_path, 'r') as file:\n",
    "    text_manual = file.read()\n"
   ]
  },
  {
   "cell_type": "markdown",
   "metadata": {},
   "source": [
    "## Defining the Prompt"
   ]
  },
  {
   "cell_type": "markdown",
   "metadata": {},
   "source": [
    "#### Comparing manual text and BeautifulSoup"
   ]
  },
  {
   "cell_type": "code",
   "execution_count": 39,
   "metadata": {},
   "outputs": [],
   "source": [
    "prompt = \"\"\"You are validation agent helping to validate if the given text and the generated text have the same content. \n",
    "            Return the a score ranging from 1 to 100 of how accurate the given text is to the generated text, make sure the content is the same.\n",
    "            Also mention the difference between the texts in less than 200 words, if they exist\"\"\" + f'\"\"\"Given Text: {text_manual}\"\"\"' + f'\"\"\"Generated Text: {text_BSoup}\"\"\"'"
   ]
  },
  {
   "cell_type": "code",
   "execution_count": 40,
   "metadata": {},
   "outputs": [],
   "source": [
    "summary = generate_summary(prompt)\n",
    "print(summary)"
   ]
  },
  {
   "cell_type": "markdown",
   "metadata": {},
   "source": [
    "#### Comparing manual text and Trafilatura"
   ]
  },
  {
   "cell_type": "code",
   "execution_count": 45,
   "metadata": {},
   "outputs": [],
   "source": [
    "prompt2 = \"\"\"You are validation agent helping to validate if the given text and the generated text have the same content. \n",
    "            Return the a score ranging from 1 to 100 of how accurate the given text is to the generated text, make sure the content is the same.\n",
    "            Also mention the difference between the texts in less than 200 words, if they exist\"\"\" + f'\"\"\"Given Text: {text_manual}\"\"\"' + f'\"\"\"Generated Text: {text_trafilatura}\"\"\"'"
   ]
  },
  {
   "cell_type": "code",
   "execution_count": 46,
   "metadata": {},
   "outputs": [
    {
     "name": "stdout",
     "output_type": "stream",
     "text": [
      "Accuracy Score: 100\n",
      "\n",
      "The given text and the generated text are identical, with no differences between them. The generated text is a direct copy of the source material provided from the Tenet Healthcare website, including various sections such as responding to COVID-19, terms and conditions of use, our stories, who we are, news, diversity & inclusion, locations, careers, Tenet through the years, improving our impact on the environment, contact us, giving back, what we do, ethics & compliance, sitemap, our leadership, notice of privacy practices, our locations, privacy policy, accessibility statement, programs & benefits, join our team, community outreach, search our careers, and physician careers.\n"
     ]
    }
   ],
   "source": [
    "summary2 = generate_summary(prompt2)\n",
    "print(summary2)"
   ]
  },
  {
   "cell_type": "markdown",
   "metadata": {},
   "source": [
    "# Notes:\n",
    "1. While the completness accuracy is 100 for both, the formatting style is a bit different.\n",
    "2. Due to difference in formating style the token usage is different (BSoup > Trafilatura).\n",
    "3. For better results, I have converted these text files into vector indices and ran RAG evaluation. (Found in RAG_Eval notebook) "
   ]
  }
 ],
 "metadata": {
  "kernelspec": {
   "display_name": "Python 3",
   "language": "python",
   "name": "python3"
  },
  "language_info": {
   "codemirror_mode": {
    "name": "ipython",
    "version": 3
   },
   "file_extension": ".py",
   "mimetype": "text/x-python",
   "name": "python",
   "nbconvert_exporter": "python",
   "pygments_lexer": "ipython3",
   "version": "3.11.5"
  }
 },
 "nbformat": 4,
 "nbformat_minor": 2
}
