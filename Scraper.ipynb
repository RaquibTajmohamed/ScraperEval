{
 "cells": [
  {
   "cell_type": "markdown",
   "metadata": {},
   "source": [
    "# Scraping of data\n",
    "#### This notebook has 2 parts, first scraping and saving the scraped data in a text file. Second, is building a QnA pair through a vector index using Llama"
   ]
  },
  {
   "cell_type": "markdown",
   "metadata": {},
   "source": [
    "# Part I"
   ]
  },
  {
   "cell_type": "code",
   "execution_count": 1,
   "metadata": {},
   "outputs": [],
   "source": [
    "#imports\n",
    "from llama_index import download_loader\n",
    "import os\n",
    "import json\n",
    "import openai\n",
    "from langchain.embeddings import OpenAIEmbeddings\n",
    "from llama_index.llms import AzureOpenAI\n",
    "from llama_index.embeddings import LangchainEmbedding\n",
    "from llama_index.embeddings import HuggingFaceEmbedding\n",
    "from llama_index import VectorStoreIndex, SimpleDirectoryReader, ServiceContext\n",
    "import logging\n",
    "import sys\n",
    "from dotenv import load_dotenv\n",
    "from langchain.embeddings import HuggingFaceEmbeddings\n",
    "from llama_index import set_global_service_context \n",
    "\n",
    "\n"
   ]
  },
  {
   "cell_type": "code",
   "execution_count": 2,
   "metadata": {},
   "outputs": [],
   "source": [
    "# open AI client config:\n",
    "\n",
    "load_dotenv()\n",
    "\n",
    "client = AzureOpenAI(\n",
    "    api_key=os.getenv('AZURE_OPENAI_API_KEY'),\n",
    "    azure_endpoint=os.getenv('AZURE_OPENAI_ENDPOINT'),\n",
    "    # api_type='azure',\n",
    "    api_version='2023-05-15',  # this may change in the future\n",
    "    timeout=20*60,  # 20 minutes\n",
    "    engine='gpt-4-1106-preview'\n",
    ")\n",
    "\n",
    "\n",
    "llm = client\n",
    "\n",
    "embedding_llm = LangchainEmbedding(\n",
    "    HuggingFaceEmbeddings(model_name=\"intfloat/e5-base-v2\"), embed_batch_size=1)\n",
    "service_context = ServiceContext.from_defaults(\n",
    "    llm=llm,\n",
    "    embed_model=embedding_llm,\n",
    ")\n",
    "\n",
    "set_global_service_context(service_context)"
   ]
  },
  {
   "cell_type": "markdown",
   "metadata": {},
   "source": [
    "## Getting all associated URL's with the page using HTML's href tag"
   ]
  },
  {
   "cell_type": "code",
   "execution_count": 8,
   "metadata": {},
   "outputs": [
    {
     "name": "stdout",
     "output_type": "stream",
     "text": [
      "total urls: 26\n",
      "https://www.tenethealth.com/covid-19-information-and-resources\n",
      "https://www.tenethealth.com/legal\n",
      "https://www.tenethealth.com/our-stories\n",
      "https://www.tenethealth.com/about\n",
      "https://www.tenethealth.com/\n",
      "https://www.tenethealth.com/careers/life-at-tenet\n",
      "https://www.tenethealth.com/locations\n",
      "https://www.tenethealth.com/home/who-we-are\n",
      "https://www.tenethealth.com/careers\n",
      "https://www.tenethealth.com/about/our-history\n",
      "https://www.tenethealth.com/about/environmental-sustainability\n",
      "https://www.tenethealth.com/contact\n",
      "https://www.tenethealth.com/home/giving-back\n",
      "https://www.tenethealth.com/about/what-we-do\n",
      "https://www.tenethealth.com/about/ethics-compliance\n",
      "https://www.tenethealth.com/sitemap\n",
      "https://www.tenethealth.com/about/our-leadership\n",
      "https://www.tenethealth.com/notice-of-privacy-practices\n",
      "https://www.tenethealth.com/home/our-locations\n",
      "https://www.tenethealth.com/privacy\n",
      "https://www.tenethealth.com/accessibility\n",
      "https://www.tenethealth.com/careers/programs-benefits\n",
      "https://www.tenethealth.com/home/join-our-team\n",
      "https://www.tenethealth.com/about/community-outreach\n",
      "https://www.tenethealth.com/careers/search-our-careers\n",
      "https://www.tenethealth.com/careers/for-physicians\n"
     ]
    }
   ],
   "source": [
    "import requests\n",
    "from bs4 import BeautifulSoup\n",
    "from urllib.parse import urljoin\n",
    " \n",
    " \n",
    "url = 'https://www.tenethealth.com/'\n",
    "reqs = requests.get(url)\n",
    "soup = BeautifulSoup(reqs.text, 'html5lib') # lxml -> good for speed, html5lib -> good for parsing broken html\n",
    " \n",
    "\n",
    "urls = set() #set to avoid duplicate urls\n",
    "for link in soup.find_all('a'):\n",
    "    href = link.get('href')\n",
    "    if href.startswith('/'):\n",
    "        full_url = urljoin(url, href)\n",
    "        urls.add(full_url)\n",
    "   \n",
    "\n",
    "print(f\"total urls: {len(urls)}\")\n",
    "for saved_url in urls:\n",
    "    print(saved_url)    "
   ]
  },
  {
   "cell_type": "markdown",
   "metadata": {},
   "source": [
    "## Scraping and downloading the URL's below"
   ]
  },
  {
   "cell_type": "code",
   "execution_count": 16,
   "metadata": {},
   "outputs": [
    {
     "name": "stdout",
     "output_type": "stream",
     "text": [
      "0 / 26 Reading from https://www.tenethealth.com/covid-19-information-and-resources\n",
      "1 / 26 Reading from https://www.tenethealth.com/legal\n",
      "2 / 26 Reading from https://www.tenethealth.com/our-stories\n",
      "3 / 26 Reading from https://www.tenethealth.com/about\n",
      "4 / 26 Reading from https://www.tenethealth.com/\n",
      "5 / 26 Reading from https://www.tenethealth.com/careers/life-at-tenet\n",
      "6 / 26 Reading from https://www.tenethealth.com/locations\n",
      "7 / 26 Reading from https://www.tenethealth.com/home/who-we-are\n",
      "8 / 26 Reading from https://www.tenethealth.com/careers\n",
      "9 / 26 Reading from https://www.tenethealth.com/about/our-history\n",
      "10 / 26 Reading from https://www.tenethealth.com/about/environmental-sustainability\n",
      "11 / 26 Reading from https://www.tenethealth.com/contact\n",
      "12 / 26 Reading from https://www.tenethealth.com/home/giving-back\n",
      "13 / 26 Reading from https://www.tenethealth.com/about/what-we-do\n",
      "14 / 26 Reading from https://www.tenethealth.com/about/ethics-compliance\n",
      "15 / 26 Reading from https://www.tenethealth.com/sitemap\n",
      "16 / 26 Reading from https://www.tenethealth.com/about/our-leadership\n",
      "17 / 26 Reading from https://www.tenethealth.com/notice-of-privacy-practices\n",
      "18 / 26 Reading from https://www.tenethealth.com/home/our-locations\n",
      "19 / 26 Reading from https://www.tenethealth.com/privacy\n",
      "20 / 26 Reading from https://www.tenethealth.com/accessibility\n",
      "21 / 26 Reading from https://www.tenethealth.com/careers/programs-benefits\n",
      "22 / 26 Reading from https://www.tenethealth.com/home/join-our-team\n",
      "23 / 26 Reading from https://www.tenethealth.com/about/community-outreach\n",
      "24 / 26 Reading from https://www.tenethealth.com/careers/search-our-careers\n",
      "25 / 26 Reading from https://www.tenethealth.com/careers/for-physicians\n"
     ]
    }
   ],
   "source": [
    "# Slack Web Crawler\n",
    "\n",
    "from llama_index.readers.web import BeautifulSoupWebReader # change scraper to trafilatura here\n",
    "from urllib.parse import urlparse\n",
    "import os\n",
    "\n",
    "\n",
    "counter = 0\n",
    "reader = BeautifulSoupWebReader() # change scraper to trafilatura here\n",
    "filename = \"TenetHealth_BeautifulSoup.txt\"\n",
    "directory = \"manual_data\"\n",
    "filepath = os.path.join(directory, filename)\n",
    "\n",
    "with open(filepath, \"w\") as f:\n",
    "    for url in urls:\n",
    "        print(counter, \"/\", len(urls), \"Reading from\", url)\n",
    "        counter += 1\n",
    "        documents = reader.load_data(urls=[url])\n",
    "        if (documents is None or documents == []):\n",
    "            print(\"Failed to read\", url)\n",
    "            continue\n",
    "        document = documents[0]\n",
    "        parsed_url = urlparse(document.doc_id)\n",
    "\n",
    "        f.write(\"Source: \" + url + '\\n\\n')\n",
    "        f.write(document.text + '\\n\\n')"
   ]
  },
  {
   "cell_type": "markdown",
   "metadata": {},
   "source": [
    "## After Scraping the above URLS, we can validate the Text files for completness using the notebook \"ScrapingComp\""
   ]
  },
  {
   "cell_type": "markdown",
   "metadata": {},
   "source": [
    "# Part II"
   ]
  },
  {
   "cell_type": "markdown",
   "metadata": {},
   "source": [
    "## Building a vector index"
   ]
  },
  {
   "cell_type": "code",
   "execution_count": 41,
   "metadata": {},
   "outputs": [],
   "source": [
    "#llama Hub connector\n",
    "reader = SimpleDirectoryReader(input_files=[\"manual_scraping/TenetHealth.txt\"])\n",
    "documents = reader.load_data()\n",
    "index = VectorStoreIndex.from_documents(documents)"
   ]
  },
  {
   "cell_type": "code",
   "execution_count": 42,
   "metadata": {},
   "outputs": [],
   "source": [
    "def collect_answers(question):\n",
    "    query_engine = index.as_query_engine() #Need to re-run this everytime to get newest index\n",
    "    response = query_engine.query(question)\n",
    "    return response"
   ]
  },
  {
   "cell_type": "markdown",
   "metadata": {},
   "source": [
    "## IMporting the QnA data set (10_qa.json)\n",
    "This contains Questions and Ground Truth's in the form of context from the target website or hand typed answers."
   ]
  },
  {
   "cell_type": "code",
   "execution_count": 12,
   "metadata": {},
   "outputs": [
    {
     "name": "stdout",
     "output_type": "stream",
     "text": [
      "Number of question and answer pairs:  10\n",
      "\n",
      "\n",
      "Example question:  How to make an appointment?\n",
      "\n",
      "\n",
      "Example Answer:   To book an appointment, you would typically need to contact the healthcare facility directly. Look for contact information on their official website or any official correspondence you have received from them. If you have a specific department or service in mind, their direct contact details may also be available on the website. If you are a new patient, you might need to provide some personal and medical information during the booking process. If you are an existing patient, you may be able to book an appointment through a patient portal if the facility offers one.\n"
     ]
    }
   ],
   "source": [
    "import json\n",
    "\n",
    "dataset = '10_qa.json'\n",
    "\n",
    "with open(dataset, 'r') as file:\n",
    "    question_answer = json.load(file)\n",
    "\n",
    "print(\"Number of question and answer pairs: \", len(question_answer['QA']))\n",
    "print(\"\\n\")\n",
    "print(\"Example question: \", question_answer['QA'][0]['question'])\n",
    "print(\"\\n\")\n",
    "print(\"Example Answer: \", question_answer['QA'][0]['answer'])"
   ]
  },
  {
   "cell_type": "markdown",
   "metadata": {},
   "source": [
    "## Generating LLM responses using the index we built "
   ]
  },
  {
   "cell_type": "code",
   "execution_count": 43,
   "metadata": {},
   "outputs": [
    {
     "name": "stdout",
     "output_type": "stream",
     "text": [
      "_______________________________________\n",
      "iteration:  0\n",
      "Query send: How to make an appointment?\n",
      "\n",
      "Generated Response: To make an appointment, you can use the online forms provided on the website. These forms may include appointment requests among other options. By filling out the necessary information on the appointment request form, such as your name, address, phone number, email address, and any other required details, you can submit your request to schedule an appointment. If the appointment is for inpatient or outpatient services, you may also have the option to pre-register through an affiliate’s or third party’s website.\n",
      "\n",
      "\n",
      "Ground truth:  To book an appointment, you would typically need to contact the healthcare facility directly. Look for contact information on their official website or any official correspondence you have received from them. If you have a specific department or service in mind, their direct contact details may also be available on the website. If you are a new patient, you might need to provide some personal and medical information during the booking process. If you are an existing patient, you may be able to book an appointment through a patient portal if the facility offers one.\n",
      "\n",
      "_______________________________________\n",
      "_______________________________________\n",
      "iteration:  1\n",
      "Query send: How did tenet health contribute during COVID-19??\n",
      "\n",
      "Generated Response: Tenet Healthcare was actively involved in community-based prevention and patient care during the COVID-19 pandemic. Their teams adapted to ensure the best possible outcomes for patients and to protect medical staff and employees. Tenet Healthcare worked closely with state and county-level Departments of Public Health and the Centers for Disease Control and Prevention (CDC) to respond to COVID-19 cases. They maintained strong infection control policies, procedures, and systems to keep communities safe. The front-line team members managed adversity and provided quality, compassionate care, leading by example with honor and professionalism. Tenet Healthcare expressed gratitude for the selfless courage and dedication of their team members in saving lives and also recognized the heroic efforts of healthcare professionals worldwide in responding to the pandemic.\n",
      "\n",
      "\n",
      "Ground truth: Tenet Healthcare has been on the front lines of community-based prevention and patient care since the beginning of the COVID-19 pandemic. Our teams have responded to this public health emergency with strength and perseverance. They have continued to adapt to ensure the best possible outcomes for our patients and protect our medical staff and employees.\n",
      "Infectious diseases are something we manage daily. Tenet has continued to collaborate closely with state and county-level Departments of Public Health and the Centers for Disease Control and Prevention (CDC) to respond to COVID-19 cases and care for all patients. We have strong infection control policies, procedures and systems in place to keep our extended communities safe.\n",
      "\n",
      "_______________________________________\n",
      "_______________________________________\n",
      "iteration:  2\n",
      "Query send: Give an overview of tenet health care?\n",
      "\n",
      "Generated Response: Tenet Healthcare is a comprehensive health system and services platform that has significantly grown in size, scope, and capability over the years. It operates through three main businesses: United Surgical Partners International (USPI), its hospital segment, and Conifer Health Solutions. USPI is known for having the largest ambulatory platform in the country, including more than 480 ambulatory surgery centers and surgical hospitals. The hospital segment comprises 58 acute care and specialty hospitals, along with approximately 160 additional outpatient centers and other sites of care, primarily located in urban and suburban communities across nine states. Conifer Health Solutions specializes in healthcare-focused revenue cycle management and value-based care services, managing $25 billion in net patient revenue annually and supporting care management for 5.9 million people.\n",
      "\n",
      "Tenet Healthcare is dedicated to providing quality, compassionate care in the communities it serves, with a mission to create an ethos of good health, wellness, and responsibility. Its vision is to consistently deliver the right care, in the right place, at the right time, and to be a premier organization to work for, with a focus on patient care and saving lives. The organization's values emphasize compassion, integrity, accountability, transparency, and inclusiveness.\n",
      "\n",
      "In addition to its healthcare services, Tenet Healthcare is actively involved in community engagement and social responsibility initiatives, such as food drives, gratitude programs, and education support. The Tenet Care Fund, a public charity, offers financial assistance to employees in need. The Global Business Center, established in 2019 in the Philippines, provides corporate and administrative support across various functions, including accounting, human resources, and patient services.\n",
      "\n",
      "Tenet Healthcare is also at the forefront of medical innovation, with facilities introducing new technologies and procedures, such as non-invasive focused ultrasound for Alzheimer's and minimally invasive lung biopsy technology. The organization's commitment to diversity and inclusion is reflected in its efforts to cultivate a culture where everyone feels valued and respected.\n",
      "\n",
      "\n",
      "Ground truth: Tenet Healthcare Corporation (NYSE: THC) is a diversified healthcare services company headquartered in Dallas. Our care delivery network includes United Surgical Partners International, the largest ambulatory platform in the country, which operates or has ownership interests in more than 480 ambulatory surgery centers and surgical hospitals. We also operate 58 acute care and specialty hospitals, approximately 110 other outpatient facilities, a network of leading employed physicians and a global business center in Manila, Philippines. Our Conifer Health Solutions subsidiary provides revenue cycle management and value-based care services to hospitals, health systems, physician practices, employers and other clients. Across the Tenet enterprise, we are united by our mission to deliver quality, compassionate care in the communities we serve.\n",
      "\n",
      "_______________________________________\n",
      "_______________________________________\n",
      "iteration:  3\n",
      "Query send: How many employees are there?\n",
      "\n",
      "Generated Response: The provided context information does not specify the number of employees at Tenet Healthcare.\n",
      "\n",
      "\n",
      "Ground truth:  There are around 100,000 employees working at tenet health care.\n",
      "\n",
      "_______________________________________\n",
      "_______________________________________\n",
      "iteration:  4\n",
      "Query send: Can you tell me about tenet healths vision?\n",
      "\n",
      "Generated Response: Tenet Healthcare's vision is to consistently deliver the right care, in the right place, at the right time and to be a premier organization to work, where patient care and saving lives remain the focus. This vision reflects the organization's aspirations for the future and the goals they work toward together. It embodies the hope of what’s to come, including how Tenet Healthcare has the opportunity to participate in some of the most important moments in patients’ lives and continue to improve the way care is delivered.\n",
      "\n",
      "\n",
      "Ground truth: Our Vision is to consistently deliver the right care, in the right place, at the right time and to be a premier organization to work, where patient care and saving lives remain our focus. Our vision reflects our aspirations for the future and the goals we work toward together. It provides hope of what’s to come, including how we have the opportunity to participate in some of the most important moments in our patients’ lives and continue to improve the way care is delivered\n",
      "\n",
      "_______________________________________\n",
      "_______________________________________\n",
      "iteration:  5\n",
      "Query send: Can you tell me more about tenet healths values?\n",
      "\n",
      "Generated Response: Tenet Health's values define who they are, what they stand for, and what they care about. Their values are centered around the acronym CARE, which stands for:\n",
      "\n",
      "- Compassion and respect for others and each other, supporting their communities and advocating for their patients.\n",
      "- Acting with integrity and the highest ethical standards – always.\n",
      "- Results delivered through accountability and transparency.\n",
      "- Embracing inclusiveness for all people in their workplace and in the communities they serve.\n",
      "\n",
      "\n",
      "Ground truth: Compassion and respect for others and each other, supporting our communities and advocating for our patients. Acting with integrity and the highest ethical standards – always Results delivered through accountability and transparency Embracing inclusiveness for all people in our workplace and in the communities we serve\n",
      "\n",
      "_______________________________________\n",
      "_______________________________________\n",
      "iteration:  6\n",
      "Query send: How can I contact Tenet Health?\n",
      "\n",
      "Generated Response: You can contact Tenet Health by reaching out to their Privacy & Security Compliance Office at the following address:\n",
      "\n",
      "Privacy & Security Compliance Office\n",
      "14201 Dallas Parkway\n",
      "Dallas, Texas 75254\n",
      "\n",
      "You can also send an email to PrivacySecurityOffice@tenethealth.com or call their Ethics Action Line at 1-800-8-ETHICS.\n",
      "\n",
      "\n",
      "Ground truth:  If you’re seeking specific help and need to reach a representative, please see our contact information below. To reach a Tenet facility, visit the Our Locations page for specific contact information.Corporate Office (directions)14201 Dallas Parkway Dallas, Texas 75254469-893-2000Ethics and ComplianceEthics@tenethealth.com 800-838-4427Media Relations MediaRelations@tenethealth.com 469-893-2640Investor Relations InvestorRelations@tenethealth.com 469-893-6992\n",
      "\n",
      "_______________________________________\n",
      "_______________________________________\n",
      "iteration:  7\n",
      "Query send: What are some medical groups of Tenet Health?\n",
      "\n",
      "Generated Response: Some medical groups of Tenet Health include United Surgical Partners International (USPI), which operates ambulatory surgery centers and surgical hospitals, and the Hospital Operations segment, which includes 58 acute care and specialty hospitals, as well as other facilities such as primary and specialty care clinics, diagnostic imaging centers, micro-hospitals, and off-campus emergency departments.\n",
      "\n",
      "\n",
      "Ground truth: The Paley Orthopedic and Spine Institute at St. Mary’s in Florida is well-known for delivering highly complex pediatric and adult orthopedic clinical services, including treatment of spine, foot and ankle deformities as well as congenital limb disorders. Biltmore Cardiology joined our Abrazo Medical Group in Phoenix in May 2019. Biltmore has over 25 years of experience providing comprehensive diagnostic and interventional cardiology, minimally invasive cardiothoracic surgery, vascular and electrophysiology services. In El Paso, Providence Medical Partners’ footprint includes The El Paso Orthopaedic Surgery Group. This team of physicians and providers offers comprehensive treatment for orthopedic issues including diagnosis, nonsurgical treatments, minimally invasive surgical procedures and rehabilitation.\n",
      "\n",
      "_______________________________________\n",
      "_______________________________________\n",
      "iteration:  8\n",
      "Query send: Are there recruiters that I can contact?\n",
      "\n",
      "Generated Response: Yes, there are recruiters you can contact for physician recruitment at various locations:\n",
      "\n",
      "- Kim Davis: Kimberli.Davis@tenethealth.com, 719-510-5619 (Focus Areas: All physician recruitment for Desert Care Network of California and South Carolina)\n",
      "- Wendy Castaldo: Wendy.Castaldo@tenethealth.com, 937-214-9317 (Focus Areas: All physician recruitment for Alabama, Florida, and Tennessee)\n",
      "- Laura Hoffer: Laura.Hoffer@tenethealth.com (Focus Areas: all physician recruitment for Texas, except El Paso)\n",
      "- Caylie Huffstutler: Caylie.Huffstutler@tenethealth.com, 520-465-8319 (Focus Areas: All physician recruitment for Arizona and El Paso, Texas)\n",
      "\n",
      "\n",
      "Ground truth: Kim Davis Kimberli.Davis@tenethealth.com 719-510-5619 Focus Areas All physician recruitment for Desert Care Network of California and South Carolina Wendy Castaldo Wendy.Castaldo@tenethealth.com 937-214-9317 Focus Areas All physician recruitment for Alabama, Florida, and Tennessee Laura Hoffer Laura.Hoffer@tenethealth.com Focus Areas all physician recruitment for Texas, except El Paso Caylie Huffstutler Caylie.Huffstutler@tenethealth.com 520-465-8319 Focus Areas All physician recruitment for Arizona and El Paso, Texas\n",
      "\n",
      "_______________________________________\n",
      "_______________________________________\n",
      "iteration:  9\n",
      "Query send: Does tenet health care have Healthcare Scholarships?\n",
      "\n",
      "Generated Response: Yes, Tenet Healthcare supports education initiatives, including providing scholarships to educate tomorrow's healthcare leaders and providers. This is done in collaboration with organizations such as the Baptist Health Foundation through the Tenet Healthcare Foundation.\n",
      "\n",
      "\n",
      "Ground truth: It is our privilege to help support the next generation of healthcare providers and we have committed to investing in the education and training of our young people. In 2018, the Tenet Healthcare Foundation joined the Baptist Health Foundation of San Antonio to establish a scholarship program to make higher education accessible for economically disadvantaged high school graduates in San Antonio who want to pursue a career in healthcare. Through this partnership, more than 1,300 healthcare scholarships have been awarded to educate tomorrow’s healthcare leaders and providers.\n",
      "\n",
      "_______________________________________\n"
     ]
    }
   ],
   "source": [
    "\n",
    "question_list = []\n",
    "answer_list = []\n",
    "gtruth_list = []\n",
    "\n",
    "for i in range(len(question_answer['QA'])):\n",
    "    print(\"_______________________________________\")\n",
    "    print(\"iteration: \", i)\n",
    "    question = question_answer['QA'][i]['question']\n",
    "    question_list.append(question)\n",
    "    print(f\"Query send: {question}\\n\")\n",
    "    ground_truth = question_answer['QA'][i]['answer']\n",
    "    gtruth_list.append(ground_truth)\n",
    "    gen_response = collect_answers(question) #Calling RAG application\n",
    "    print(f\"Generated Response: {gen_response}\\n\")\n",
    "    answer_list.append(str(gen_response))\n",
    "    print(f\"\\nGround truth: {ground_truth}\\n\")\n",
    "    #gen_str = str(gen_response) #TODO: test if this is required\n",
    "    print(\"_______________________________________\")\n"
   ]
  },
  {
   "cell_type": "markdown",
   "metadata": {},
   "source": [
    "## Saving the result in JSON format so we can evaluate it using the \"RAG_Eval\" notebook"
   ]
  },
  {
   "cell_type": "code",
   "execution_count": 44,
   "metadata": {},
   "outputs": [],
   "source": [
    "qa_list = [{\"question\": q, \"answer\": a, \"ground_truth\": g} for q, a, g in zip(question_list, answer_list, gtruth_list)]\n",
    "\n",
    "data = {\n",
    "    \"QA\": qa_list\n",
    "}\n",
    "\n",
    "#Change the name of the file to the name of the dataset\n",
    "with open('Manual_Response.json', 'w') as f:\n",
    "    json.dump(data, f, indent=4)\n"
   ]
  }
 ],
 "metadata": {
  "kernelspec": {
   "display_name": "Python 3",
   "language": "python",
   "name": "python3"
  },
  "language_info": {
   "codemirror_mode": {
    "name": "ipython",
    "version": 3
   },
   "file_extension": ".py",
   "mimetype": "text/x-python",
   "name": "python",
   "nbconvert_exporter": "python",
   "pygments_lexer": "ipython3",
   "version": "3.11.5"
  }
 },
 "nbformat": 4,
 "nbformat_minor": 2
}
